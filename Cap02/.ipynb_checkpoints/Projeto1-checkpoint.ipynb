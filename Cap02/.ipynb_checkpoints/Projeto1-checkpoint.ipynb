{
 "cells": [
  {
   "cell_type": "markdown",
   "id": "958d1f6c-e24c-4ba5-a7b4-95f748ca7ad5",
   "metadata": {},
   "source": [
    "# <font color='blue'>Data Science Academy</font>\n",
    "# <font color='blue'>Análise de Dados com Linguagem Python</font>\n",
    "\n",
    "## <font color='blue'>Projeto 1</font>\n",
    "## <font color='blue'>Banco Relacional, Python e SQL Para Análise de Dados</font>"
   ]
  },
  {
   "cell_type": "markdown",
   "id": "0abed965-4589-4a8c-b750-f4c6ee94ee56",
   "metadata": {},
   "source": [
    "![title](imagens/Projeto1.png)"
   ]
  },
  {
   "cell_type": "code",
   "execution_count": 2,
   "id": "253345db-37c4-487f-8264-8cbe35b56d2b",
   "metadata": {},
   "outputs": [
    {
     "name": "stdout",
     "output_type": "stream",
     "text": [
      "Versão da Linguagem:  3.11.7\n"
     ]
    }
   ],
   "source": [
    "# Versão do Python\n",
    "from platform import python_version\n",
    "print('Versão da Linguagem: ', python_version())"
   ]
  },
  {
   "cell_type": "code",
   "execution_count": 3,
   "id": "3e07c6dd-217b-4773-9758-67878896ce5b",
   "metadata": {},
   "outputs": [],
   "source": [
    "# Instalamos o Watermark\n",
    "# É usado para gravar as versões de outros pacotes usados no Jupyter Notebook\n",
    "!pip install -q -U watermark"
   ]
  },
  {
   "cell_type": "code",
   "execution_count": 4,
   "id": "af865c37-118a-43ea-8e52-6fae0716176c",
   "metadata": {},
   "outputs": [],
   "source": [
    "# Instalamos o IPython-sql\n",
    "!pip install -q ipython-sql"
   ]
  },
  {
   "cell_type": "code",
   "execution_count": 6,
   "id": "a305c56b-e704-4e23-a64d-876747331af7",
   "metadata": {},
   "outputs": [],
   "source": [
    "import pandas as pd\n",
    "import sqlite3"
   ]
  },
  {
   "cell_type": "code",
   "execution_count": 8,
   "id": "c0be7ecb-a364-49b0-b16c-11210acbb326",
   "metadata": {},
   "outputs": [
    {
     "name": "stdout",
     "output_type": "stream",
     "text": [
      "Author: Data Science Academy\n",
      "\n",
      "sqlite3: 2.6.0\n",
      "pandas : 2.1.4\n",
      "\n"
     ]
    }
   ],
   "source": [
    "# Versões dos pacotes usados neste Jupyter Notebook\n",
    "%reload_ext watermark\n",
    "%watermark -a \"Data Science Academy\" --iversions"
   ]
  },
  {
   "cell_type": "code",
   "execution_count": null,
   "id": "f11ce1a1-0899-4016-95a6-8afbd279cf8a",
   "metadata": {},
   "outputs": [],
   "source": []
  }
 ],
 "metadata": {
  "kernelspec": {
   "display_name": "Python 3 (ipykernel)",
   "language": "python",
   "name": "python3"
  },
  "language_info": {
   "codemirror_mode": {
    "name": "ipython",
    "version": 3
   },
   "file_extension": ".py",
   "mimetype": "text/x-python",
   "name": "python",
   "nbconvert_exporter": "python",
   "pygments_lexer": "ipython3",
   "version": "3.11.7"
  }
 },
 "nbformat": 4,
 "nbformat_minor": 5
}
